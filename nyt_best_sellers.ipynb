{
 "cells": [
  {
   "cell_type": "code",
   "execution_count": 1,
   "id": "fitted-reproduction",
   "metadata": {},
   "outputs": [],
   "source": [
    "# from selenium import webdriver\n",
    "from bs4 import BeautifulSoup\n",
    "import requests\n",
    "import time\n",
    "import csv"
   ]
  },
  {
   "cell_type": "markdown",
   "id": "together-agreement",
   "metadata": {},
   "source": [
    "\n"
   ]
  },
  {
   "cell_type": "code",
   "execution_count": 13,
   "id": "illegal-number",
   "metadata": {},
   "outputs": [],
   "source": [
    "test_url = '/books/best-sellers/2021/02/28/combined-print-and-e-book-fiction/'\n",
    "\n",
    "def get_nyt(url, n):\n",
    "    \n",
    "    file = open('nyt.csv', 'w')\n",
    "    f = csv.writer(file)\n",
    "    f.writerow( ['title', 'author', 'rank', 'date', 'weeks_on'] )\n",
    "    \n",
    "\n",
    "    for i in range(n):\n",
    "        \n",
    "        #the code in the loop is what we do to each week\n",
    "        page = requests.get('https://www.nytimes.com/' + url)\n",
    "        soup = BeautifulSoup(page.text, 'html.parser')\n",
    "    \n",
    "        get_ol = soup.find(\"ol\", class_=\"css-12yzwg4\")\n",
    "\n",
    "        get_books = get_ol.find_all(\"li\", class_=\"css-13y32ub\")\n",
    "        get_titles = soup.find_all(\"h3\", class_=\"css-5pe77f\")\n",
    "        get_authors = soup.find_all(\"p\", class_=\"css-hjukut\")\n",
    "        get_date = soup.find(\"time\", class_=\"css-6068ga\")\n",
    "        get_weeks = soup.find_all(\"p\", class_=\"css-1o26r9v\")\n",
    "\n",
    "        get_prev_link = soup.find(\"div\", class_=\"css-iouqpc\")\n",
    "        prev_link = get_prev_link.a.attrs['href']\n",
    "\n",
    "\n",
    "        get_prev_link = soup.find(\"div\", class_=\"css-iouqpc\")\n",
    "        prev_link = get_prev_link.a.attrs['href']\n",
    "\n",
    "        details_list = []\n",
    "\n",
    "        for i in range(len(get_books)):\n",
    "            title = get_titles[i].get_text()\n",
    "            author = get_authors[i].get_text()[3:]\n",
    "            rank = \"#\" + str(i+1)\n",
    "            date = get_date.get_text()\n",
    "            weeks_on = get_weeks[i].get_text().split(' ')[0]\n",
    "\n",
    "            details = [title, author, rank, date, weeks_on]\n",
    "            f.writerow(details)\n",
    "            details_list.append(details)\n",
    "            \n",
    "        url = prev_link\n",
    "        \n",
    "        \n",
    "    file.close()\n",
    "    \n",
    "    return None    \n",
    "\n",
    "get_nyt(test_url, 52)"
   ]
  }
 ],
 "metadata": {
  "kernelspec": {
   "display_name": "Python 3",
   "language": "python",
   "name": "python3"
  },
  "language_info": {
   "codemirror_mode": {
    "name": "ipython",
    "version": 3
   },
   "file_extension": ".py",
   "mimetype": "text/x-python",
   "name": "python",
   "nbconvert_exporter": "python",
   "pygments_lexer": "ipython3",
   "version": "3.9.1"
  }
 },
 "nbformat": 4,
 "nbformat_minor": 5
}
